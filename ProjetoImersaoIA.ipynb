{
  "nbformat": 4,
  "nbformat_minor": 0,
  "metadata": {
    "colab": {
      "provenance": [],
      "mount_file_id": "1AAf0PcX2GtGnW1CoCup94r0ZTHOq0Stv",
      "authorship_tag": "ABX9TyNPY4MLAMnd33eavAcfgzns",
      "include_colab_link": true
    },
    "kernelspec": {
      "name": "python3",
      "display_name": "Python 3"
    },
    "language_info": {
      "name": "python"
    }
  },
  "cells": [
    {
      "cell_type": "markdown",
      "metadata": {
        "id": "view-in-github",
        "colab_type": "text"
      },
      "source": [
        "<a href=\"https://colab.research.google.com/github/willameoliveira/ibot-factory/blob/master/ProjetoImersaoIA.ipynb\" target=\"_parent\"><img src=\"https://colab.research.google.com/assets/colab-badge.svg\" alt=\"Open In Colab\"/></a>"
      ]
    },
    {
      "cell_type": "code",
      "execution_count": null,
      "metadata": {
        "id": "8Ze2U2tgnRp8"
      },
      "outputs": [],
      "source": [
        "!pip install -q -U google-generativeai\n",
        "!pip install PyDrive\n",
        "!pip install PyPDF2"
      ]
    },
    {
      "cell_type": "code",
      "source": [
        "from pathlib import Path\n",
        "import hashlib\n",
        "import google.generativeai as genai\n",
        "from google.colab import userdata\n",
        "\n",
        "import PyPDF2\n",
        "\n",
        "# Import PyDrive and associated libraries.\n",
        "# This only needs to be done once per notebook.\n",
        "from pydrive.auth import GoogleAuth\n",
        "from pydrive.drive import GoogleDrive\n",
        "from google.colab import auth\n",
        "from oauth2client.client import GoogleCredentials"
      ],
      "metadata": {
        "id": "zbg-aKfY7iOp"
      },
      "execution_count": 14,
      "outputs": []
    },
    {
      "cell_type": "code",
      "source": [
        "# Authenticate and create the PyDrive client.\n",
        "# This only needs to be done once per notebook.\n",
        "auth.authenticate_user()\n",
        "gauth = GoogleAuth()\n",
        "gauth.credentials = GoogleCredentials.get_application_default()\n",
        "drive = GoogleDrive(gauth)"
      ],
      "metadata": {
        "id": "6764l_dq72jb"
      },
      "execution_count": 24,
      "outputs": []
    },
    {
      "cell_type": "code",
      "source": [
        "# Download a file based on its file ID.\n",
        "#\n",
        "# A file ID looks like: laggVyWshwcyP6kEI-y_W3P8D26sz\n",
        "file_id = '1XQWRoI9NQS6mrF1ibhLVkDF_SfbArMfB'\n",
        "# criando arquivo vazio, apenas com o id do que se deseja acessar\n",
        "downloaded = drive.CreateFile({'id': file_id})\n",
        "# baixando o arquivo\n",
        "downloaded.GetContentFile(\"document0.pdf\")"
      ],
      "metadata": {
        "id": "pvEld8Mgn6J_"
      },
      "execution_count": 10,
      "outputs": []
    },
    {
      "cell_type": "code",
      "source": [
        "genai.configure(api_key=userdata.get('API_KEY'))\n",
        "\n",
        "# Set up the model\n",
        "generation_config = {\n",
        "  \"temperature\": 1,\n",
        "  \"top_p\": 0.95,\n",
        "  \"top_k\": 0,\n",
        "  \"max_output_tokens\": 8192,\n",
        "}\n",
        "\n",
        "safety_settings = [\n",
        "  {\n",
        "    \"category\": \"HARM_CATEGORY_HARASSMENT\",\n",
        "    \"threshold\": \"BLOCK_MEDIUM_AND_ABOVE\"\n",
        "  },\n",
        "  {\n",
        "    \"category\": \"HARM_CATEGORY_HATE_SPEECH\",\n",
        "    \"threshold\": \"BLOCK_MEDIUM_AND_ABOVE\"\n",
        "  },\n",
        "  {\n",
        "    \"category\": \"HARM_CATEGORY_SEXUALLY_EXPLICIT\",\n",
        "    \"threshold\": \"BLOCK_MEDIUM_AND_ABOVE\"\n",
        "  },\n",
        "  {\n",
        "    \"category\": \"HARM_CATEGORY_DANGEROUS_CONTENT\",\n",
        "    \"threshold\": \"BLOCK_MEDIUM_AND_ABOVE\"\n",
        "  },\n",
        "]\n",
        "\n",
        "model = genai.GenerativeModel(model_name=\"gemini-1.5-pro-latest\",\n",
        "                              generation_config=generation_config,\n",
        "                              safety_settings=safety_settings)\n",
        "\n",
        "def extract_pdf_pages(pathname: str) -> list[str]:\n",
        "  parts = [f\"--- START OF PDF ${pathname} ---\"]\n",
        "  # Add logic to read the PDF and return a list of pages here.\n",
        "  pages = []\n",
        "  reader = PyPDF2.PdfReader(pathname)\n",
        "  for p in reader.pages:\n",
        "    pages.append(p.extract_text())\n",
        "\n",
        "  for index, page in enumerate(pages):\n",
        "    parts.append(f\"--- PAGE {index} ---\")\n",
        "    parts.append(page)\n",
        "  return parts"
      ],
      "metadata": {
        "id": "syTBLvm-9C55"
      },
      "execution_count": 18,
      "outputs": []
    },
    {
      "cell_type": "code",
      "source": [
        "chat = model.start_chat(history=[\n",
        "  {\n",
        "    \"role\": \"user\",\n",
        "    \"parts\": extract_pdf_pages(\"/content/document0.pdf\")#<path>/document0.pdf\n",
        "  },\n",
        "  {\n",
        "    \"role\": \"user\",\n",
        "    \"parts\": [\"\"\"O arquivo contém informações\n",
        "    sobre os serviços oferecidos pela instituição de ensino chamada IFPI campus\n",
        "    Pedro II. Haja como uma atendente virtual dessa instituição e responda, em\n",
        "    tom amigável e com uso de emojis, as perguntas que serão feitas apenas\n",
        "    usando esse documento como base. Antes de começar a responder a primeira\n",
        "    pergunta, se apresente.\"\"\"]\n",
        "  },\n",
        "])\n",
        "\n",
        "prompt = input(\"Digite alg: \")\n",
        "while prompt != \"fim\":\n",
        "  response = chat.send_message(prompt)\n",
        "  print (f\"IFPI: {response.text}\")\n",
        "  prompt = input(\"Digite algo: \")"
      ],
      "metadata": {
        "id": "EfvR8CCQsizx"
      },
      "execution_count": null,
      "outputs": []
    }
  ]
}