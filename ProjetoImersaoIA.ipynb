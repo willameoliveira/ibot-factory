{
  "nbformat": 4,
  "nbformat_minor": 0,
  "metadata": {
    "colab": {
      "provenance": [],
      "mount_file_id": "1AAf0PcX2GtGnW1CoCup94r0ZTHOq0Stv",
      "authorship_tag": "ABX9TyPINciDe1z6aZi0nzuNLxv0",
      "include_colab_link": true
    },
    "kernelspec": {
      "name": "python3",
      "display_name": "Python 3"
    },
    "language_info": {
      "name": "python"
    }
  },
  "cells": [
    {
      "cell_type": "markdown",
      "metadata": {
        "id": "view-in-github",
        "colab_type": "text"
      },
      "source": [
        "<a href=\"https://colab.research.google.com/github/willameoliveira/ibot-factory/blob/master/ProjetoImersaoIA.ipynb\" target=\"_parent\"><img src=\"https://colab.research.google.com/assets/colab-badge.svg\" alt=\"Open In Colab\"/></a>"
      ]
    },
    {
      "cell_type": "code",
      "execution_count": null,
      "metadata": {
        "id": "8Ze2U2tgnRp8"
      },
      "outputs": [],
      "source": [
        "!pip install -q -U google-generativeai\n",
        "!pip install PyDrive\n",
        "!pip install PyPDF2"
      ]
    },
    {
      "cell_type": "code",
      "source": [
        "from pathlib import Path\n",
        "import hashlib\n",
        "import google.generativeai as genai\n",
        "from google.colab import userdata\n",
        "\n",
        "import PyPDF2\n",
        "\n",
        "# Import PyDrive and associated libraries.\n",
        "# This only needs to be done once per notebook.\n",
        "from pydrive.auth import GoogleAuth\n",
        "from pydrive.drive import GoogleDrive\n",
        "from google.colab import auth\n",
        "from oauth2client.client import GoogleCredentials"
      ],
      "metadata": {
        "id": "zbg-aKfY7iOp"
      },
      "execution_count": 14,
      "outputs": []
    },
    {
      "cell_type": "code",
      "source": [
        "# Authenticate and create the PyDrive client.\n",
        "# This only needs to be done once per notebook.\n",
        "auth.authenticate_user()\n",
        "gauth = GoogleAuth()\n",
        "gauth.credentials = GoogleCredentials.get_application_default()\n",
        "drive = GoogleDrive(gauth)"
      ],
      "metadata": {
        "id": "6764l_dq72jb"
      },
      "execution_count": 24,
      "outputs": []
    },
    {
      "cell_type": "code",
      "source": [
        "# This only needs to be done once per notebook.\n",
        "# Download a file based on its file ID.\n",
        "\n",
        "print(\"Seja bem vindo ao criador de chatbot inteligente. :)\")\n",
        "tipo_negocio = input(\"Primeiro informe como se identifica seu negócio (ex: empresa, organização ou instituição?): \")\n",
        "razao_social = input(\"Informe o nome da sua organização da forma como deseja que apareça no assistente virtual: \")\n",
        "link_arquivo = input(\"\"\"Agora informe o link do PDF contido no seu Google Drive que contém as informações dos seus\n",
        "serviços (CUIDADO: Certifique-se de que todo o conteúdo possa ser publicado na internet e que não há conteúdo ofensivo).\n",
        "Para isso, basta clicar com o botão direito no arquivo e escolher a opção copiar link para a área de transferência e colar aqui: \"\"\")"
      ],
      "metadata": {
        "id": "pvEld8Mgn6J_"
      },
      "execution_count": null,
      "outputs": []
    },
    {
      "cell_type": "code",
      "source": [
        "#Extraindo o id da URL usando regex\n",
        "\"\"\"\n",
        "import re\n",
        "\n",
        "# Extrai o ID da string\n",
        "regex = r\"(?<=id=)([a-zA-Z0-9_-]+)\"\n",
        "match = re.search(regex, link_arquivo)\n",
        "\n",
        "if match:\n",
        "  # O ID está no grupo 1\n",
        "  id = match.group(1)\n",
        "  print(f\"ID extraído: {id}\")\n",
        "else:\n",
        "  print(\"ID não encontrado na string\")\n",
        "  \"\"\""
      ],
      "metadata": {
        "id": "fUZj1vceUVeH"
      },
      "execution_count": null,
      "outputs": []
    },
    {
      "cell_type": "code",
      "source": [
        "\n",
        "from urllib.parse import urlparse\n",
        "\n",
        "# Analisa a URL\n",
        "parsed_url = urlparse(link_arquivo)\n",
        "\n",
        "# O ID está no parâmetro \"id\"\n",
        "id = parsed_url.query.split(\"=\")[1].split(\"&\")[0]\n",
        "\n",
        "print(f\"ID extraído: {id}\")"
      ],
      "metadata": {
        "id": "eO2SW-oRRzvu"
      },
      "execution_count": null,
      "outputs": []
    },
    {
      "cell_type": "code",
      "source": [
        "# A file ID looks like: laggVyWshwcyP6kEI-y_W3P8D26sz\n",
        "file_id = id\n",
        "# criando arquivo vazio, apenas com o id do que se deseja acessar\n",
        "downloaded = drive.CreateFile({'id': file_id})\n",
        "# baixando o arquivo\n",
        "downloaded.GetContentFile(\"document0.pdf\")"
      ],
      "metadata": {
        "id": "xAKwfsigQ6Cb"
      },
      "execution_count": 46,
      "outputs": []
    },
    {
      "cell_type": "code",
      "source": [
        "genai.configure(api_key=userdata.get('API_KEY'))\n",
        "\n",
        "# Set up the model\n",
        "generation_config = {\n",
        "  \"temperature\": 0.5,\n",
        "  \"top_p\": 0.95,\n",
        "  \"top_k\": 0,\n",
        "  \"max_output_tokens\": 8192,\n",
        "}\n",
        "\n",
        "safety_settings = [\n",
        "  {\n",
        "    \"category\": \"HARM_CATEGORY_HARASSMENT\",\n",
        "    \"threshold\": \"BLOCK_MEDIUM_AND_ABOVE\"\n",
        "  },\n",
        "  {\n",
        "    \"category\": \"HARM_CATEGORY_HATE_SPEECH\",\n",
        "    \"threshold\": \"BLOCK_MEDIUM_AND_ABOVE\"\n",
        "  },\n",
        "  {\n",
        "    \"category\": \"HARM_CATEGORY_SEXUALLY_EXPLICIT\",\n",
        "    \"threshold\": \"BLOCK_MEDIUM_AND_ABOVE\"\n",
        "  },\n",
        "  {\n",
        "    \"category\": \"HARM_CATEGORY_DANGEROUS_CONTENT\",\n",
        "    \"threshold\": \"BLOCK_MEDIUM_AND_ABOVE\"\n",
        "  },\n",
        "]\n",
        "\n",
        "model = genai.GenerativeModel(model_name=\"gemini-1.5-pro-latest\",\n",
        "                              generation_config=generation_config,\n",
        "                              safety_settings=safety_settings)\n",
        "\n",
        "def extract_pdf_pages(pathname: str) -> list[str]:\n",
        "  parts = [f\"--- START OF PDF ${pathname} ---\"]\n",
        "  # Add logic to read the PDF and return a list of pages here.\n",
        "  pages = []\n",
        "  reader = PyPDF2.PdfReader(pathname)\n",
        "  for p in reader.pages:\n",
        "    pages.append(p.extract_text())\n",
        "\n",
        "  for index, page in enumerate(pages):\n",
        "    parts.append(f\"--- PAGE {index} ---\")\n",
        "    parts.append(page)\n",
        "  return parts"
      ],
      "metadata": {
        "id": "syTBLvm-9C55"
      },
      "execution_count": 47,
      "outputs": []
    },
    {
      "cell_type": "code",
      "source": [
        "chat = model.start_chat(history=[\n",
        "  {\n",
        "    \"role\": \"user\",\n",
        "    \"parts\": extract_pdf_pages(\"/content/document0.pdf\")#<path>/document0.pdf\n",
        "  },\n",
        "  {\n",
        "    \"role\": \"user\",\n",
        "    \"parts\": [f\"\"\"O arquivo contém informações\n",
        "    sobre os serviços oferecidos pelo(a) {tipo_negocio} chamado(a) {razao_social}.\n",
        "    Haja como uma atendente virtual dessa {tipo_negocio} e responda, em\n",
        "    tom amigável e com uso de emojis, as perguntas que serão feitas apenas\n",
        "    usando esse documento como base. Antes de começar a responder a primeira\n",
        "    pergunta, se apresente.\"\"\"]\n",
        "  },\n",
        "])\n",
        "\n",
        "prompt = input(\"Digite algo: \")\n",
        "while prompt != \"fim\":\n",
        "  response = chat.send_message(prompt)\n",
        "  print (f\"{razao_social}: {response.text}\")\n",
        "  prompt = input(\"Digite algo: \")"
      ],
      "metadata": {
        "id": "EfvR8CCQsizx"
      },
      "execution_count": null,
      "outputs": []
    }
  ]
}