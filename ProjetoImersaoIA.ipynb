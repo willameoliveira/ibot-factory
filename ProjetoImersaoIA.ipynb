{
  "nbformat": 4,
  "nbformat_minor": 0,
  "metadata": {
    "colab": {
      "provenance": [],
      "mount_file_id": "1AAf0PcX2GtGnW1CoCup94r0ZTHOq0Stv",
      "authorship_tag": "ABX9TyNctl1w6zOozlGOzYwUksJN",
      "include_colab_link": true
    },
    "kernelspec": {
      "name": "python3",
      "display_name": "Python 3"
    },
    "language_info": {
      "name": "python"
    }
  },
  "cells": [
    {
      "cell_type": "markdown",
      "metadata": {
        "id": "view-in-github",
        "colab_type": "text"
      },
      "source": [
        "<a href=\"https://colab.research.google.com/github/willameoliveira/ibot-factory/blob/master/ProjetoImersaoIA.ipynb\" target=\"_parent\"><img src=\"https://colab.research.google.com/assets/colab-badge.svg\" alt=\"Open In Colab\"/></a>"
      ]
    },
    {
      "cell_type": "markdown",
      "source": [
        "# **Projeto IBot Factory, fábrica de chatbot inteligente**\n",
        "Respondendo apenas três perguntas usando o chatbot, gere um assistente virtual para seu negócio. O projeto ainda é um protótipo.\n",
        "\n",
        "Será útil para qualquer instituição (seja de ensino, de saúde, ongs, etc) que deseja ter uma assistente inteligente para seu negócio. Um grande objetivo é democratizar a criação de assistentes virtuais principalmente nas organizações públicas, melhorando a qualidade do atendimento.\n",
        "\n",
        "Para executar esse notebook, observe que há vários trechos que só precisam ser executados apenas uma vez.\n",
        "\n",
        "O código inicia fazendo as instalações necessárias (biblioteca da ia generativa do google, biblioteca para acessar o Google Drive a partir do python e, por último, uma biblioteca para trabalhar com PDF no python respectivamente). Ele só precisa ser executado apenas uma vez por notebook."
      ],
      "metadata": {
        "id": "lfH9KuSa4BVZ"
      }
    },
    {
      "cell_type": "code",
      "execution_count": null,
      "metadata": {
        "id": "8Ze2U2tgnRp8"
      },
      "outputs": [],
      "source": [
        "!pip install -q -U google-generativeai\n",
        "!pip install PyDrive\n",
        "!pip install PyPDF2"
      ]
    },
    {
      "cell_type": "markdown",
      "source": [
        "Nesse trecho são feitos todos os imports de bibliotecas necessárias.\n",
        "\n",
        "*   `google.generativeai as genai`: Importa a biblioteca de IA generativa do Google, que você pode usar para tarefas como geração de texto, sumarização e resposta a perguntas.\n",
        "*   `from google.colab import userdata`: Importa o módulo userdata do Google Colab, que pode ser usado para acessar armazenamento persistente dentro do seu ambiente do Colab.\n",
        "*   `from urllib.parse import urlparse`: Importa a função urlparse, útil para dividir URLs em seus componentes (esquema, netloc, caminho, etc.).\n",
        "*  `import PyPDF2`: Importa a biblioteca PyPDF2, permitindo que você trabalhe com arquivos PDF, incluindo leitura, manipulação e gravação.\n",
        "*   `from pydrive.auth import GoogleAuth` e `from pydrive.drive import GoogleDrive`: Importam componentes da biblioteca PyDrive, que fornece uma interface para interagir com sua conta do Google Drive a partir do Python. Você pode usá-la para enviar, baixar e gerenciar arquivos no Google Drive.\n",
        "*   `from google.colab import auth` e `from oauth2client.client import GoogleCredentials`: Importam módulos necessários para autenticar seu notebook Colab com sua conta do Google, concedendo acesso aos seus arquivos do Google Drive e outros serviços do Google."
      ],
      "metadata": {
        "id": "fIvKWZPw5b_w"
      }
    },
    {
      "cell_type": "code",
      "source": [
        "import google.generativeai as genai\n",
        "from google.colab import userdata\n",
        "from urllib.parse import urlparse\n",
        "import PyPDF2\n",
        "from pydrive.auth import GoogleAuth\n",
        "from pydrive.drive import GoogleDrive\n",
        "from google.colab import auth\n",
        "from oauth2client.client import GoogleCredentials"
      ],
      "metadata": {
        "id": "zbg-aKfY7iOp"
      },
      "execution_count": 59,
      "outputs": []
    },
    {
      "cell_type": "markdown",
      "source": [
        "Aqui o cliente PyDrive é autenticado e criado, podendo acessar o Google Drive do usuário. Está sendo usada a credencial padrão, que pede acesso total aos arquivos do Drive. Ao executar esse trecho, será pedida a permissão para acesso total ao seu Drive. Não tenha medo de conceder esse acesso, observe que o código não remove nada do seu Drive, apenas lê o arquivo PDF que você mesmo informará. Como esse código é só um protótipo, essa credencial resolve por enquanto.\n",
        "OBS: Esse trecho só precisa ser executado uma vez por notebook."
      ],
      "metadata": {
        "id": "-3JD9t8m8Wf5"
      }
    },
    {
      "cell_type": "code",
      "source": [
        "# Authenticate and create the PyDrive client.\n",
        "# This only needs to be done once per notebook.\n",
        "auth.authenticate_user()\n",
        "gauth = GoogleAuth()\n",
        "gauth.credentials = GoogleCredentials.get_application_default()\n",
        "drive = GoogleDrive(gauth)"
      ],
      "metadata": {
        "id": "6764l_dq72jb"
      },
      "execution_count": 24,
      "outputs": []
    },
    {
      "cell_type": "markdown",
      "source": [
        "Esse trecho corresponde ao acesso do dono do negócio e, por isso, só precisa ser executado uma vez por notebook. O público alvo do negócio que acessa apenas o assistente virtual, não terá acesso a essa parte. Por ser protótipo, só está sendo possível gerar uma única assistente virtual por vez."
      ],
      "metadata": {
        "id": "G9-mzfds9WHy"
      }
    },
    {
      "cell_type": "code",
      "source": [
        "print(\"Seja bem vindo ao IBot Factory, seu criador de chatbot inteligente. 😁\")\n",
        "tipo_negocio = input(\"Primeiro informe como se identifica seu negócio (ex: empresa, organização ou instituição?): \")\n",
        "razao_social = input(\"\\nInforme o nome da sua organização da forma como deseja que apareça no assistente virtual: \")\n",
        "link_arquivo = input(\"\"\"\n",
        "\n",
        "Agora informe o link do PDF contido no seu Google Drive que contém as informações dos seus\n",
        "serviços (CUIDADO: Certifique-se de que todo o conteúdo possa ser publicado na internet e que não há conteúdo ofensivo).\n",
        "Para isso, basta clicar com o botão direito no arquivo e escolher a opção copiar link para a área de transferência e\n",
        "colar aqui: \"\"\")\n",
        "\n",
        "# Analisa a URL\n",
        "parsed_url = urlparse(link_arquivo)\n",
        "\n",
        "# Extraindo o ID da url\n",
        "file_id = parsed_url.query.split(\"=\")[1].split(\"&\")[0]\n",
        "\n",
        "# criando arquivo vazio, apenas com o id do que se deseja acessar\n",
        "downloaded = drive.CreateFile({'id': file_id})\n",
        "# baixando o arquivo para o sistema de arquivo local\n",
        "downloaded.GetContentFile(\"document0.pdf\")\n",
        "\n",
        "print(\"\\nParabéns. As configurações iniciais do seu assistente já foram feitas!\")"
      ],
      "metadata": {
        "id": "pvEld8Mgn6J_"
      },
      "execution_count": null,
      "outputs": []
    },
    {
      "cell_type": "markdown",
      "source": [
        "Inicializando o modelo Gemini. A partir daqui inicia a execução do Assistente Virtual que foi configurado pelo dono do negócio."
      ],
      "metadata": {
        "id": "J48l9bCEBNk6"
      }
    },
    {
      "cell_type": "code",
      "source": [
        "genai.configure(api_key=userdata.get('API_KEY'))\n",
        "\n",
        "# Set up the model\n",
        "generation_config = {\n",
        "  \"temperature\": 0.5,\n",
        "  \"top_p\": 0.95,\n",
        "  \"top_k\": 0,\n",
        "  \"max_output_tokens\": 8192,\n",
        "}\n",
        "\n",
        "safety_settings = [\n",
        "  {\n",
        "    \"category\": \"HARM_CATEGORY_HARASSMENT\",\n",
        "    \"threshold\": \"BLOCK_MEDIUM_AND_ABOVE\"\n",
        "  },\n",
        "  {\n",
        "    \"category\": \"HARM_CATEGORY_HATE_SPEECH\",\n",
        "    \"threshold\": \"BLOCK_MEDIUM_AND_ABOVE\"\n",
        "  },\n",
        "  {\n",
        "    \"category\": \"HARM_CATEGORY_SEXUALLY_EXPLICIT\",\n",
        "    \"threshold\": \"BLOCK_MEDIUM_AND_ABOVE\"\n",
        "  },\n",
        "  {\n",
        "    \"category\": \"HARM_CATEGORY_DANGEROUS_CONTENT\",\n",
        "    \"threshold\": \"BLOCK_MEDIUM_AND_ABOVE\"\n",
        "  },\n",
        "]\n",
        "\n",
        "model = genai.GenerativeModel(model_name=\"gemini-1.5-pro-latest\",\n",
        "                              generation_config=generation_config,\n",
        "                              safety_settings=safety_settings)"
      ],
      "metadata": {
        "id": "syTBLvm-9C55"
      },
      "execution_count": 66,
      "outputs": []
    },
    {
      "cell_type": "markdown",
      "source": [
        "O próximo trecho tem a função de extrair o texto de cada página do arquivo PDF recebido e retornar um dicionário de textos do PDF agrupado por página.\n",
        "\n",
        "Em detalhes:\n",
        "1. A função recebe o caminho do arquivo PDF (pathname) como entrada.\n",
        "2. Cria uma lista `parts`: Essa lista armazenará o texto extraído de cada página, junto com marcadores para indicar o início do PDF e o começo de cada página.\n",
        "3. Abre o arquivo PDF: A biblioteca PyPDF2 é usada para abrir o arquivo PDF especificado pelo pathname.\n",
        "4. Itera pelas páginas do PDF: O código percorre cada página do PDF, extraindo seu conteúdo textual e adiciona na lista `pages`.\n",
        "5. Extrai o texto e adiciona ao dicionário: O texto de cada página é extraído e adicionado ao dicionário `parts`. O dicionário também inclui marcadores como \"--- START OF PDF {pathname} ---\" para indicar o início do PDF e \"--- PAGE {index+1} ---\" para indicar o início de cada página.\n",
        "6. Retorna o dicionário: A função retorna o dicionário `parts`, que contém o texto extraído de cada página do PDF, juntamente com os marcadores.\n",
        "\n"
      ],
      "metadata": {
        "id": "GzBZBplQBs1u"
      }
    },
    {
      "cell_type": "code",
      "source": [
        "def extract_pdf_pages(pathname: str) -> list[str]:\n",
        "  parts = [f\"--- START OF PDF ${pathname} ---\"]\n",
        "  # Add logic to read the PDF and return a list of pages here.\n",
        "  pages = []\n",
        "  reader = PyPDF2.PdfReader(pathname)\n",
        "  for p in reader.pages:\n",
        "    pages.append(p.extract_text())\n",
        "\n",
        "  for index, page in enumerate(pages):\n",
        "    parts.append(f\"--- PAGE {index} ---\")\n",
        "    parts.append(page)\n",
        "  return parts"
      ],
      "metadata": {
        "id": "K4dqw6pUB4z1"
      },
      "execution_count": 67,
      "outputs": []
    },
    {
      "cell_type": "markdown",
      "source": [
        "Inicializando o chat do Gemini. O conteúdo do PDF lido é adicionado como histórico do chat para que as próximas respostas sejam baseadas no conteúdo dele. Na versão final, ele será incluído usando Embeddings para melhor eficiência e economia de uso de tokens."
      ],
      "metadata": {
        "id": "MuEUS8AKEnsz"
      }
    },
    {
      "cell_type": "code",
      "source": [
        "chat = model.start_chat(history=[\n",
        "  {\n",
        "    \"role\": \"user\",\n",
        "    \"parts\": extract_pdf_pages(\"/content/document0.pdf\")#<path>/document0.pdf\n",
        "  },\n",
        "  {\n",
        "    \"role\": \"user\",\n",
        "    \"parts\": [f\"\"\"O arquivo contém informações\n",
        "    sobre os serviços oferecidos pelo(a) {tipo_negocio} chamado(a) {razao_social}.\n",
        "    Haja como uma atendente virtual dessa {tipo_negocio} e responda, em\n",
        "    tom amigável e com uso de emojis, as perguntas que serão feitas apenas\n",
        "    usando esse documento como base. Antes de começar a responder a primeira\n",
        "    pergunta, se apresente.\"\"\"]\n",
        "  },\n",
        "])\n",
        "\n",
        "prompt = input(f\"Digite algo (fim para parar): \")\n",
        "while prompt != \"fim\":\n",
        "  response = chat.send_message(prompt)\n",
        "  print (f\"{razao_social}: {response.text}\")\n",
        "  prompt = input(f\"Digite algo: \")"
      ],
      "metadata": {
        "id": "EfvR8CCQsizx"
      },
      "execution_count": null,
      "outputs": []
    }
  ]
}